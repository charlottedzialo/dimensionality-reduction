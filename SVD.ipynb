{
 "cells": [
  {
   "cell_type": "markdown",
   "metadata": {},
   "source": [
    "# Part 1 "
   ]
  },
  {
   "cell_type": "markdown",
   "metadata": {},
   "source": [
    "### Goal: Use SVD to understand lantent features in data. In this case, latent features can be genre or styles. "
   ]
  },
  {
   "cell_type": "code",
   "execution_count": 2,
   "metadata": {},
   "outputs": [],
   "source": [
    "import pandas as pd\n",
    "import numpy as np\n",
    "import matplotlib.pyplot as plt\n",
    "from collections import defaultdict"
   ]
  },
  {
   "cell_type": "code",
   "execution_count": 3,
   "metadata": {},
   "outputs": [
    {
     "data": {
      "text/html": [
       "<div>\n",
       "<style scoped>\n",
       "    .dataframe tbody tr th:only-of-type {\n",
       "        vertical-align: middle;\n",
       "    }\n",
       "\n",
       "    .dataframe tbody tr th {\n",
       "        vertical-align: top;\n",
       "    }\n",
       "\n",
       "    .dataframe thead th {\n",
       "        text-align: right;\n",
       "    }\n",
       "</style>\n",
       "<table border=\"1\" class=\"dataframe\">\n",
       "  <thead>\n",
       "    <tr style=\"text-align: right;\">\n",
       "      <th></th>\n",
       "      <th>User-ID</th>\n",
       "      <th>ISBN</th>\n",
       "      <th>Book-Rating</th>\n",
       "    </tr>\n",
       "  </thead>\n",
       "  <tbody>\n",
       "    <tr>\n",
       "      <th>0</th>\n",
       "      <td>277195</td>\n",
       "      <td>0060391626</td>\n",
       "      <td>10</td>\n",
       "    </tr>\n",
       "    <tr>\n",
       "      <th>1</th>\n",
       "      <td>277195</td>\n",
       "      <td>0060502258</td>\n",
       "      <td>0</td>\n",
       "    </tr>\n",
       "    <tr>\n",
       "      <th>2</th>\n",
       "      <td>277195</td>\n",
       "      <td>0060987561</td>\n",
       "      <td>0</td>\n",
       "    </tr>\n",
       "    <tr>\n",
       "      <th>3</th>\n",
       "      <td>277195</td>\n",
       "      <td>0316666343</td>\n",
       "      <td>0</td>\n",
       "    </tr>\n",
       "    <tr>\n",
       "      <th>4</th>\n",
       "      <td>277195</td>\n",
       "      <td>0316734837</td>\n",
       "      <td>0</td>\n",
       "    </tr>\n",
       "  </tbody>\n",
       "</table>\n",
       "</div>"
      ],
      "text/plain": [
       "   User-ID        ISBN  Book-Rating\n",
       "0   277195  0060391626           10\n",
       "1   277195  0060502258            0\n",
       "2   277195  0060987561            0\n",
       "3   277195  0316666343            0\n",
       "4   277195  0316734837            0"
      ]
     },
     "execution_count": 3,
     "metadata": {},
     "output_type": "execute_result"
    }
   ],
   "source": [
    "data = pd.read_csv('data/book_reviews.csv')\n",
    "data.head()"
   ]
  },
  {
   "cell_type": "markdown",
   "metadata": {},
   "source": [
    "#### Create feature matrix "
   ]
  },
  {
   "cell_type": "code",
   "execution_count": 151,
   "metadata": {},
   "outputs": [],
   "source": [
    "feature_matrix = data.pivot(index='User-ID', columns='ISBN', values='Book-Rating')\n",
    "feature_matrix = feature_matrix.fillna(-1)"
   ]
  },
  {
   "cell_type": "markdown",
   "metadata": {},
   "source": [
    "#### Fill N/As with -1"
   ]
  },
  {
   "cell_type": "code",
   "execution_count": 174,
   "metadata": {},
   "outputs": [],
   "source": [
    "A = feature_matrix.fillna(-1)"
   ]
  },
  {
   "cell_type": "markdown",
   "metadata": {},
   "source": [
    "#### SVD "
   ]
  },
  {
   "cell_type": "markdown",
   "metadata": {},
   "source": [
    "- m: # of users\n",
    "- n: # of items\n",
    "- k: # of latent features (also rank of A)\n",
    "- A is our user-book rating matrix (m x n)\n",
    "- U is our weights matrix (m x k) --> users x lantent features \n",
    "- S is our singular values matrix (k x k) -->  lantent features on diagnol \n",
    "- V* is our features matrix (k x n) --> lantent features x items"
   ]
  },
  {
   "cell_type": "markdown",
   "metadata": {},
   "source": [
    "#### Decompose feature matrix into u, s, v*"
   ]
  },
  {
   "cell_type": "code",
   "execution_count": 156,
   "metadata": {},
   "outputs": [],
   "source": [
    "u, s, vh = np.linalg.svd(A, full_matrices=True)"
   ]
  },
  {
   "cell_type": "code",
   "execution_count": 45,
   "metadata": {},
   "outputs": [
    {
     "data": {
      "text/plain": [
       "((2500, 2500), (2500,), (6092, 6092))"
      ]
     },
     "execution_count": 45,
     "metadata": {},
     "output_type": "execute_result"
    }
   ],
   "source": [
    "u.shape, s.shape, vh.shape"
   ]
  },
  {
   "cell_type": "code",
   "execution_count": 67,
   "metadata": {},
   "outputs": [],
   "source": [
    "# power = variance of a dimension \n",
    "power = s**2"
   ]
  },
  {
   "cell_type": "code",
   "execution_count": 77,
   "metadata": {},
   "outputs": [
    {
     "data": {
      "text/plain": [
       "Text(0.5, 0, 'Lantent feautes (k)')"
      ]
     },
     "execution_count": 77,
     "metadata": {},
     "output_type": "execute_result"
    },
    {
     "data": {
      "image/png": "[encoded data removed]",
      "text/plain": [
       "<Figure size 432x288 with 1 Axes>"
      ]
     },
     "metadata": {
      "needs_background": "light"
     },
     "output_type": "display_data"
    }
   ],
   "source": [
    "X = np.arange(0,6)\n",
    "y = power[:6]\n",
    "plt.plot(X,y)\n",
    "plt.title('Scree plot SVD')\n",
    "plt.ylabel('Power')\n",
    "plt.xlabel('Lantent feautes (k)')"
   ]
  },
  {
   "cell_type": "code",
   "execution_count": 83,
   "metadata": {},
   "outputs": [
    {
     "data": {
      "text/plain": [
       "Text(0.5, 0, 'Lantent feautes (k)')"
      ]
     },
     "execution_count": 83,
     "metadata": {},
     "output_type": "execute_result"
    },
    {
     "data": {
      "image/png": "[encoded data removed]",
      "text/plain": [
       "<Figure size 432x288 with 1 Axes>"
      ]
     },
     "metadata": {
      "needs_background": "light"
     },
     "output_type": "display_data"
    }
   ],
   "source": [
    "power_cum = power.cumsum()\n",
    "X = np.arange(0,2500)\n",
    "plt.plot(X,power_cum)\n",
    "plt.title('Cumulative sum SVD')\n",
    "plt.ylabel('CumulativePower')\n",
    "plt.xlabel('Lantent feautes (k)')"
   ]
  },
  {
   "cell_type": "code",
   "execution_count": 100,
   "metadata": {},
   "outputs": [
    {
     "data": {
      "text/plain": [
       "(array([ 441,  442,  443, ..., 2497, 2498, 2499]),)"
      ]
     },
     "execution_count": 100,
     "metadata": {},
     "output_type": "execute_result"
    }
   ],
   "source": [
    "np.where(power_cum/ power.sum() >= .9)\n",
    "## need 441 singular values to get 90% of power "
   ]
  },
  {
   "cell_type": "code",
   "execution_count": null,
   "metadata": {},
   "outputs": [],
   "source": []
  },
  {
   "cell_type": "markdown",
   "metadata": {},
   "source": [
    "### Look at V to find which books most contribute to each 'topic'. For each of these 'topics', print out the title and author of the 10 most relevant books\n",
    "\n",
    "-V shows us how much of each book contributes to the latent features"
   ]
  },
  {
   "cell_type": "markdown",
   "metadata": {},
   "source": [
    "##### Getting indexs for books that have largest values/ contribute the most to each topic"
   ]
  },
  {
   "cell_type": "code",
   "execution_count": 293,
   "metadata": {},
   "outputs": [],
   "source": [
    "mat = (vh)[:10]\n",
    "idx = np.argsort(mat)[::-1][:,:10]"
   ]
  },
  {
   "cell_type": "markdown",
   "metadata": {},
   "source": [
    "#### import meta data "
   ]
  },
  {
   "cell_type": "code",
   "execution_count": null,
   "metadata": {},
   "outputs": [],
   "source": [
    "meta_data = pd.read_csv('data/book_meta.csv', sep=\";\", error_bad_lines=False, encoding='latin1')"
   ]
  },
  {
   "cell_type": "markdown",
   "metadata": {},
   "source": [
    "#### Indexing into dataframe to get ISBN number, then indexing into meta data to get book name by topic. Storing in dictionary by topic"
   ]
  },
  {
   "cell_type": "code",
   "execution_count": 311,
   "metadata": {},
   "outputs": [
    {
     "ename": "ValueError",
     "evalue": "can only convert an array of size 1 to a Python scalar",
     "output_type": "error",
     "traceback": [
      "\u001b[0;31m---------------------------------------------------------------------------\u001b[0m",
      "\u001b[0;31mValueError\u001b[0m                                Traceback (most recent call last)",
      "\u001b[0;32m<ipython-input-311-ef45931d1ac5>\u001b[0m in \u001b[0;36m<module>\u001b[0;34m\u001b[0m\n\u001b[1;32m      5\u001b[0m     \u001b[0;32mfor\u001b[0m \u001b[0mvalues\u001b[0m \u001b[0;32min\u001b[0m \u001b[0midx\u001b[0m\u001b[0;34m[\u001b[0m\u001b[0mi\u001b[0m\u001b[0;34m]\u001b[0m\u001b[0;34m:\u001b[0m\u001b[0;34m\u001b[0m\u001b[0;34m\u001b[0m\u001b[0m\n\u001b[1;32m      6\u001b[0m         \u001b[0mISBN\u001b[0m \u001b[0;34m=\u001b[0m \u001b[0mA\u001b[0m\u001b[0;34m.\u001b[0m\u001b[0miloc\u001b[0m\u001b[0;34m[\u001b[0m\u001b[0;34m:\u001b[0m\u001b[0;34m,\u001b[0m\u001b[0mvalues\u001b[0m\u001b[0;34m]\u001b[0m\u001b[0;34m.\u001b[0m\u001b[0mname\u001b[0m\u001b[0;34m\u001b[0m\u001b[0;34m\u001b[0m\u001b[0m\n\u001b[0;32m----> 7\u001b[0;31m         \u001b[0mbook_title\u001b[0m \u001b[0;34m=\u001b[0m \u001b[0mmeta_data\u001b[0m\u001b[0;34m[\u001b[0m\u001b[0;34m'Book-Title'\u001b[0m\u001b[0;34m]\u001b[0m\u001b[0;34m[\u001b[0m\u001b[0mmeta_data\u001b[0m\u001b[0;34m[\u001b[0m\u001b[0;34m'ISBN'\u001b[0m\u001b[0;34m]\u001b[0m \u001b[0;34m==\u001b[0m \u001b[0mISBN\u001b[0m\u001b[0;34m]\u001b[0m\u001b[0;34m.\u001b[0m\u001b[0mitem\u001b[0m\u001b[0;34m(\u001b[0m\u001b[0;34m)\u001b[0m\u001b[0;34m\u001b[0m\u001b[0;34m\u001b[0m\u001b[0m\n\u001b[0m\u001b[1;32m      8\u001b[0m         \u001b[0mdd\u001b[0m\u001b[0;34m[\u001b[0m\u001b[0mi\u001b[0m\u001b[0;34m]\u001b[0m\u001b[0;34m.\u001b[0m\u001b[0mappend\u001b[0m\u001b[0;34m(\u001b[0m\u001b[0mbook_title\u001b[0m\u001b[0;34m)\u001b[0m\u001b[0;34m\u001b[0m\u001b[0;34m\u001b[0m\u001b[0m\n\u001b[1;32m      9\u001b[0m \u001b[0;34m\u001b[0m\u001b[0m\n",
      "\u001b[0;32m/anaconda3/lib/python3.6/site-packages/pandas/core/base.py\u001b[0m in \u001b[0;36mitem\u001b[0;34m(self)\u001b[0m\n\u001b[1;32m    714\u001b[0m         \"\"\"\n\u001b[1;32m    715\u001b[0m         \u001b[0;32mtry\u001b[0m\u001b[0;34m:\u001b[0m\u001b[0;34m\u001b[0m\u001b[0;34m\u001b[0m\u001b[0m\n\u001b[0;32m--> 716\u001b[0;31m             \u001b[0;32mreturn\u001b[0m \u001b[0mself\u001b[0m\u001b[0;34m.\u001b[0m\u001b[0mvalues\u001b[0m\u001b[0;34m.\u001b[0m\u001b[0mitem\u001b[0m\u001b[0;34m(\u001b[0m\u001b[0;34m)\u001b[0m\u001b[0;34m\u001b[0m\u001b[0;34m\u001b[0m\u001b[0m\n\u001b[0m\u001b[1;32m    717\u001b[0m         \u001b[0;32mexcept\u001b[0m \u001b[0mIndexError\u001b[0m\u001b[0;34m:\u001b[0m\u001b[0;34m\u001b[0m\u001b[0;34m\u001b[0m\u001b[0m\n\u001b[1;32m    718\u001b[0m             \u001b[0;31m# copy numpy's message here because Py26 raises an IndexError\u001b[0m\u001b[0;34m\u001b[0m\u001b[0;34m\u001b[0m\u001b[0;34m\u001b[0m\u001b[0m\n",
      "\u001b[0;31mValueError\u001b[0m: can only convert an array of size 1 to a Python scalar"
     ]
    }
   ],
   "source": [
    "\n",
    "dd = defaultdict(list)\n",
    "for i in range(0, idx.shape[0]):\n",
    "    for values in idx[i]:\n",
    "        ISBN = A.iloc[:,values].name\n",
    "        book_title = meta_data['Book-Title'][meta_data['ISBN'] == ISBN].item()\n",
    "        dd[i].append(book_title)\n",
    "        \n",
    "        "
   ]
  },
  {
   "cell_type": "code",
   "execution_count": 312,
   "metadata": {},
   "outputs": [
    {
     "data": {
      "text/plain": [
       "defaultdict(list,\n",
       "            {0: ['The Lovely Bones: A Novel',\n",
       "              'The Vampire Lestat (Vampire Chronicles, Book II)',\n",
       "              'Born in Shame',\n",
       "              'Interview with the Vampire',\n",
       "              'Tears of the Moon (Irish Trilogy)',\n",
       "              'Dance upon the Air (Three Sisters Island Trilogy)',\n",
       "              'Heart of the Sea (Irish Trilogy)',\n",
       "              'Ceremony in Death (Eve Dallas Mysteries (Paperback))',\n",
       "              'The Queen of the Damned (Vampire Chronicles (Paperback))',\n",
       "              'Irish Hearts'],\n",
       "             1: [\"The Handmaid's Tale\",\n",
       "              'A Prayer for Owen Meany',\n",
       "              'Jurassic Park',\n",
       "              'Roses Are Red (Alex Cross Novels)',\n",
       "              'The Lovely Bones: A Novel',\n",
       "              'Angels &amp; Demons',\n",
       "              'Snow Falling on Cedars',\n",
       "              'Kiss the Girls',\n",
       "              'Bel Canto: A Novel',\n",
       "              'Flesh and Blood'],\n",
       "             2: ['Three To Get Deadly : A Stephanie Plum Novel (A Stephanie Plum Novel)',\n",
       "              'Harry Potter and the Prisoner of Azkaban (Book 3)',\n",
       "              'High Five (A Stephanie Plum Novel)',\n",
       "              'Two for the Dough',\n",
       "              'Four To Score (A Stephanie Plum Novel)',\n",
       "              'Harry Potter and the Order of the Phoenix (Book 5)',\n",
       "              'Seven Up (A Stephanie Plum Novel)',\n",
       "              'Hot Six : A Stephanie Plum Novel (A Stephanie Plum Novel)',\n",
       "              'Harry Potter and the Goblet of Fire (Book 4)',\n",
       "              'Harry Potter and the Chamber of Secrets (Book 2)'],\n",
       "             3: [\"Where the Heart Is (Oprah's Book Club (Paperback))\",\n",
       "              \"The Pilot's Wife : A Novel\",\n",
       "              'Midwives: A Novel',\n",
       "              'Good in Bed',\n",
       "              'Heart of the Sea (Irish Trilogy)',\n",
       "              'Jewels of the Sun (Irish Trilogy)',\n",
       "              'The Notebook',\n",
       "              'Tears of the Moon (Irish Trilogy)',\n",
       "              'Summer Sisters',\n",
       "              'Jewel'],\n",
       "             4: ['Harry Potter and the Order of the Phoenix (Book 5)',\n",
       "              'Harry Potter and the Goblet of Fire (Book 4)',\n",
       "              'Harry Potter and the Prisoner of Azkaban (Book 3)',\n",
       "              'Harry Potter and the Chamber of Secrets (Book 2)',\n",
       "              \"Harry Potter and the Sorcerer's Stone (Harry Potter (Paperback))\",\n",
       "              \"Harry Potter and the Sorcerer's Stone (Book 1)\",\n",
       "              'Harry Potter and the Prisoner of Azkaban (Book 3)',\n",
       "              'Harry Potter and the Chamber of Secrets (Book 2)',\n",
       "              'Harry Potter and the Goblet of Fire (Book 4)',\n",
       "              'To Kill a Mockingbird'],\n",
       "             5: ['The Lovely Bones: A Novel',\n",
       "              'The Red Tent (Bestselling Backlist)',\n",
       "              'The Secret Life of Bees',\n",
       "              'The Da Vinci Code',\n",
       "              'The Five People You Meet in Heaven',\n",
       "              'Key of Valor (Roberts, Nora. Key Trilogy, 3.)',\n",
       "              'Key of Knowledge (Key Trilogy (Paperback))',\n",
       "              'The Hours: A Novel',\n",
       "              'House of Sand and Fog',\n",
       "              'Empire Falls']})"
      ]
     },
     "execution_count": 312,
     "metadata": {},
     "output_type": "execute_result"
    }
   ],
   "source": [
    "dd"
   ]
  },
  {
   "cell_type": "markdown",
   "metadata": {},
   "source": [
    "# Part 2: "
   ]
  },
  {
   "cell_type": "markdown",
   "metadata": {},
   "source": [
    "### Goal: Visualizing High Dimensional Data "
   ]
  },
  {
   "cell_type": "markdown",
   "metadata": {},
   "source": [
    "#### Multi deminsional scaling is used in information visualization to display the information contained in a distance matrix. It is a form of non-linear dimensionality reduction."
   ]
  },
  {
   "cell_type": "code",
   "execution_count": 70,
   "metadata": {},
   "outputs": [],
   "source": [
    "from scipy.spatial import distance\n",
    "from scipy.spatial.distance import pdist "
   ]
  },
  {
   "cell_type": "code",
   "execution_count": 27,
   "metadata": {},
   "outputs": [
    {
     "data": {
      "text/plain": [
       "'U'"
      ]
     },
     "execution_count": 27,
     "metadata": {},
     "output_type": "execute_result"
    }
   ],
   "source": [
    "s1= pd.read_csv('data/senate/s101.csv')\n",
    "s1.columns[0][0]"
   ]
  },
  {
   "cell_type": "markdown",
   "metadata": {},
   "source": [
    "#### Load in the data, making one data frame for each session"
   ]
  },
  {
   "cell_type": "code",
   "execution_count": 20,
   "metadata": {},
   "outputs": [],
   "source": [
    "session_dic = {'session 1': pd.read_csv('data/senate/s101.csv'), \n",
    "               'session 2': pd.read_csv('data/senate/s102.csv'), \n",
    "               'session 3': pd.read_csv('data/senate/s103.csv'),\n",
    "               'session 4': pd.read_csv('data/senate/s104.csv'),\n",
    "               'session 5': pd.read_csv('data/senate/s105.csv'),\n",
    "              'session 6': pd.read_csv('data/senate/s106.csv'),\n",
    "              'session 7': pd.read_csv('data/senate/s107.csv'),\n",
    "              'session 8': pd.read_csv('data/senate/s108.csv'),\n",
    "              'session 9': pd.read_csv('data/senate/s109.csv'),\n",
    "              'session 10': pd.read_csv('data/senate/s110.csv'),\n",
    "              'session 11': pd.read_csv('data/senate/s111.csv'),}"
   ]
  },
  {
   "cell_type": "markdown",
   "metadata": {},
   "source": [
    "#### Voting code is on a more complex 0-9 scale, so put them on a Yay (1), Nay (-1), abstain (0) scale\n",
    "\n",
    "- 1,2,3 -> 1\n",
    "- 4,5,6 -> -1\n",
    "- 7,8,9,0 -> 0"
   ]
  },
  {
   "cell_type": "code",
   "execution_count": 33,
   "metadata": {},
   "outputs": [],
   "source": [
    "mapper = {1:1,2:1, 3:1, 4:-1, 5:-1, 6:-1, 7:0, 8:0, 9:0, 0:0}\n",
    "\n",
    "def transformer(df):\n",
    "    cols =  [ c for c in df.columns if c[0].lower() == 'v']\n",
    "    df[cols] = df[cols].applymap(lambda x: mapper[x])\n",
    "    \n",
    "for session in session_dic:\n",
    "    transformer(session_dic[session])"
   ]
  },
  {
   "cell_type": "code",
   "execution_count": 56,
   "metadata": {},
   "outputs": [
    {
     "data": {
      "text/html": [
       "<div>\n",
       "<style scoped>\n",
       "    .dataframe tbody tr th:only-of-type {\n",
       "        vertical-align: middle;\n",
       "    }\n",
       "\n",
       "    .dataframe tbody tr th {\n",
       "        vertical-align: top;\n",
       "    }\n",
       "\n",
       "    .dataframe thead th {\n",
       "        text-align: right;\n",
       "    }\n",
       "</style>\n",
       "<table border=\"1\" class=\"dataframe\">\n",
       "  <thead>\n",
       "    <tr style=\"text-align: right;\">\n",
       "      <th></th>\n",
       "      <th>name</th>\n",
       "      <th>V1</th>\n",
       "      <th>V2</th>\n",
       "      <th>V3</th>\n",
       "      <th>V4</th>\n",
       "      <th>V5</th>\n",
       "      <th>V6</th>\n",
       "      <th>V7</th>\n",
       "      <th>V8</th>\n",
       "      <th>V9</th>\n",
       "      <th>...</th>\n",
       "      <th>V629</th>\n",
       "      <th>V630</th>\n",
       "      <th>V631</th>\n",
       "      <th>V632</th>\n",
       "      <th>V633</th>\n",
       "      <th>V634</th>\n",
       "      <th>V635</th>\n",
       "      <th>V636</th>\n",
       "      <th>V637</th>\n",
       "      <th>V638</th>\n",
       "    </tr>\n",
       "  </thead>\n",
       "  <tbody>\n",
       "    <tr>\n",
       "      <th>0</th>\n",
       "      <td>BUSH</td>\n",
       "      <td>1</td>\n",
       "      <td>1</td>\n",
       "      <td>1</td>\n",
       "      <td>1</td>\n",
       "      <td>1</td>\n",
       "      <td>1</td>\n",
       "      <td>1</td>\n",
       "      <td>1</td>\n",
       "      <td>1</td>\n",
       "      <td>...</td>\n",
       "      <td>0</td>\n",
       "      <td>0</td>\n",
       "      <td>0</td>\n",
       "      <td>0</td>\n",
       "      <td>0</td>\n",
       "      <td>0</td>\n",
       "      <td>0</td>\n",
       "      <td>0</td>\n",
       "      <td>0</td>\n",
       "      <td>1</td>\n",
       "    </tr>\n",
       "    <tr>\n",
       "      <th>1</th>\n",
       "      <td>SHELBY, RIC</td>\n",
       "      <td>1</td>\n",
       "      <td>1</td>\n",
       "      <td>1</td>\n",
       "      <td>1</td>\n",
       "      <td>1</td>\n",
       "      <td>1</td>\n",
       "      <td>1</td>\n",
       "      <td>1</td>\n",
       "      <td>1</td>\n",
       "      <td>...</td>\n",
       "      <td>1</td>\n",
       "      <td>1</td>\n",
       "      <td>1</td>\n",
       "      <td>1</td>\n",
       "      <td>1</td>\n",
       "      <td>1</td>\n",
       "      <td>1</td>\n",
       "      <td>1</td>\n",
       "      <td>1</td>\n",
       "      <td>-1</td>\n",
       "    </tr>\n",
       "    <tr>\n",
       "      <th>2</th>\n",
       "      <td>HEFLIN, HOW</td>\n",
       "      <td>1</td>\n",
       "      <td>1</td>\n",
       "      <td>1</td>\n",
       "      <td>1</td>\n",
       "      <td>1</td>\n",
       "      <td>1</td>\n",
       "      <td>1</td>\n",
       "      <td>1</td>\n",
       "      <td>1</td>\n",
       "      <td>...</td>\n",
       "      <td>1</td>\n",
       "      <td>1</td>\n",
       "      <td>1</td>\n",
       "      <td>1</td>\n",
       "      <td>1</td>\n",
       "      <td>1</td>\n",
       "      <td>1</td>\n",
       "      <td>1</td>\n",
       "      <td>1</td>\n",
       "      <td>-1</td>\n",
       "    </tr>\n",
       "    <tr>\n",
       "      <th>3</th>\n",
       "      <td>STEVENS, TH</td>\n",
       "      <td>1</td>\n",
       "      <td>1</td>\n",
       "      <td>1</td>\n",
       "      <td>1</td>\n",
       "      <td>1</td>\n",
       "      <td>1</td>\n",
       "      <td>1</td>\n",
       "      <td>1</td>\n",
       "      <td>1</td>\n",
       "      <td>...</td>\n",
       "      <td>1</td>\n",
       "      <td>1</td>\n",
       "      <td>1</td>\n",
       "      <td>1</td>\n",
       "      <td>-1</td>\n",
       "      <td>-1</td>\n",
       "      <td>1</td>\n",
       "      <td>1</td>\n",
       "      <td>1</td>\n",
       "      <td>1</td>\n",
       "    </tr>\n",
       "    <tr>\n",
       "      <th>4</th>\n",
       "      <td>MURKOWSKI,</td>\n",
       "      <td>1</td>\n",
       "      <td>1</td>\n",
       "      <td>1</td>\n",
       "      <td>1</td>\n",
       "      <td>1</td>\n",
       "      <td>1</td>\n",
       "      <td>1</td>\n",
       "      <td>1</td>\n",
       "      <td>1</td>\n",
       "      <td>...</td>\n",
       "      <td>1</td>\n",
       "      <td>1</td>\n",
       "      <td>1</td>\n",
       "      <td>1</td>\n",
       "      <td>-1</td>\n",
       "      <td>-1</td>\n",
       "      <td>1</td>\n",
       "      <td>1</td>\n",
       "      <td>1</td>\n",
       "      <td>-1</td>\n",
       "    </tr>\n",
       "  </tbody>\n",
       "</table>\n",
       "<p>5 rows × 639 columns</p>\n",
       "</div>"
      ],
      "text/plain": [
       "          name  V1  V2  V3  V4  V5  V6  V7  V8  V9  ...  V629  V630  V631  \\\n",
       "0  BUSH          1   1   1   1   1   1   1   1   1  ...     0     0     0   \n",
       "1  SHELBY, RIC   1   1   1   1   1   1   1   1   1  ...     1     1     1   \n",
       "2  HEFLIN, HOW   1   1   1   1   1   1   1   1   1  ...     1     1     1   \n",
       "3  STEVENS, TH   1   1   1   1   1   1   1   1   1  ...     1     1     1   \n",
       "4  MURKOWSKI,    1   1   1   1   1   1   1   1   1  ...     1     1     1   \n",
       "\n",
       "   V632  V633  V634  V635  V636  V637  V638  \n",
       "0     0     0     0     0     0     0     1  \n",
       "1     1     1     1     1     1     1    -1  \n",
       "2     1     1     1     1     1     1    -1  \n",
       "3     1    -1    -1     1     1     1     1  \n",
       "4     1    -1    -1     1     1     1    -1  \n",
       "\n",
       "[5 rows x 639 columns]"
      ]
     },
     "execution_count": 56,
     "metadata": {},
     "output_type": "execute_result"
    }
   ],
   "source": [
    "session_dic['session 1'].iloc[:,9:].head()"
   ]
  },
  {
   "cell_type": "markdown",
   "metadata": {},
   "source": [
    "#### We are now ready to compute our distances. Let us first start with the 101st session for now. Extract all rows that correspond to the 101 Senate and using scipy's pdist create a similarity matrix of our senators. Start with Euclidean for now."
   ]
  },
  {
   "cell_type": "code",
   "execution_count": 93,
   "metadata": {},
   "outputs": [],
   "source": [
    "s1 = pdist(session_dic['session 1'].iloc[:,10:], metric='euclidean')\n",
    "roll = session_dic['session 1']"
   ]
  },
  {
   "cell_type": "markdown",
   "metadata": {},
   "source": [
    "#### Pass this matrix into scikit's MDS to compute the scaling (remember to tell it you precomputed the distances)."
   ]
  },
  {
   "cell_type": "code",
   "execution_count": 73,
   "metadata": {},
   "outputs": [],
   "source": [
    "from sklearn.manifold import MDS\n",
    "\n",
    "mds = MDS(dissimilarity='precomputed').fit_transform(distance.squareform(s1))"
   ]
  },
  {
   "cell_type": "markdown",
   "metadata": {},
   "source": [
    "#### Plot senators in 2D space"
   ]
  },
  {
   "cell_type": "code",
   "execution_count": 94,
   "metadata": {},
   "outputs": [],
   "source": [
    "dem = np.where(roll.party == 100)[0]\n",
    "rep = np.where(roll.party == 200)[0]\n",
    "names = session_dic['session 1'].name.values"
   ]
  },
  {
   "cell_type": "code",
   "execution_count": 100,
   "metadata": {},
   "outputs": [],
   "source": [
    "def plot_senate(mds):\n",
    "    plt.figure(figsize = (12, 10))\n",
    "\n",
    "    plt.plot(mds[:, 0], mds[:, 1], '.', alpha = 0)\n",
    "\n",
    "    plt.title('Senators of the 101th Congress')\n",
    "\n",
    "    for i in dem:\n",
    "        plt.annotate(names[i], (mds[i, 0], mds[i, 1]),\n",
    "                     color = 'blue',\n",
    "                     alpha = 0.3)\n",
    "\n",
    "    for i in rep:\n",
    "        plt.annotate(names[i], (mds[i, 0], mds[i, 1]),\n",
    "                     color = 'red',\n",
    "                     alpha = 0.5)"
   ]
  },
  {
   "cell_type": "code",
   "execution_count": 101,
   "metadata": {},
   "outputs": [
    {
     "data": {
      "image/png": "[encoded data removed]",
      "text/plain": [
       "<Figure size 864x720 with 1 Axes>"
      ]
     },
     "metadata": {
      "needs_background": "light"
     },
     "output_type": "display_data"
    }
   ],
   "source": [
    "plot_senate(mds)"
   ]
  },
  {
   "cell_type": "markdown",
   "metadata": {},
   "source": [
    "# PART 3: Congress ideology 4 fun"
   ]
  },
  {
   "cell_type": "code",
   "execution_count": 103,
   "metadata": {},
   "outputs": [],
   "source": [
    "df = pd.read_csv('data/HS116_members.csv')"
   ]
  },
  {
   "cell_type": "code",
   "execution_count": 109,
   "metadata": {},
   "outputs": [
    {
     "data": {
      "text/plain": [
       "-0.44095357142857133"
      ]
     },
     "execution_count": 109,
     "metadata": {},
     "output_type": "execute_result"
    }
   ],
   "source": [
    "df[df['party_code'] == 100]['nominate_dim1'].mean()"
   ]
  },
  {
   "cell_type": "code",
   "execution_count": 112,
   "metadata": {},
   "outputs": [
    {
     "data": {
      "text/plain": [
       "0.5026666666666664"
      ]
     },
     "execution_count": 112,
     "metadata": {},
     "output_type": "execute_result"
    }
   ],
   "source": [
    "df[df['party_code'] == 200]['nominate_dim1'].mean()"
   ]
  },
  {
   "cell_type": "code",
   "execution_count": 111,
   "metadata": {},
   "outputs": [
    {
     "data": {
      "text/html": [
       "<div>\n",
       "<style scoped>\n",
       "    .dataframe tbody tr th:only-of-type {\n",
       "        vertical-align: middle;\n",
       "    }\n",
       "\n",
       "    .dataframe tbody tr th {\n",
       "        vertical-align: top;\n",
       "    }\n",
       "\n",
       "    .dataframe thead th {\n",
       "        text-align: right;\n",
       "    }\n",
       "</style>\n",
       "<table border=\"1\" class=\"dataframe\">\n",
       "  <thead>\n",
       "    <tr style=\"text-align: right;\">\n",
       "      <th></th>\n",
       "      <th>congress</th>\n",
       "      <th>chamber</th>\n",
       "      <th>icpsr</th>\n",
       "      <th>state_icpsr</th>\n",
       "      <th>district_code</th>\n",
       "      <th>state_abbrev</th>\n",
       "      <th>party_code</th>\n",
       "      <th>occupancy</th>\n",
       "      <th>last_means</th>\n",
       "      <th>bioname</th>\n",
       "      <th>...</th>\n",
       "      <th>died</th>\n",
       "      <th>nominate_dim1</th>\n",
       "      <th>nominate_dim2</th>\n",
       "      <th>nominate_log_likelihood</th>\n",
       "      <th>nominate_geo_mean_probability</th>\n",
       "      <th>nominate_number_of_votes</th>\n",
       "      <th>nominate_number_of_errors</th>\n",
       "      <th>conditional</th>\n",
       "      <th>nokken_poole_dim1</th>\n",
       "      <th>nokken_poole_dim2</th>\n",
       "    </tr>\n",
       "  </thead>\n",
       "  <tbody>\n",
       "    <tr>\n",
       "      <th>0</th>\n",
       "      <td>116</td>\n",
       "      <td>House</td>\n",
       "      <td>20301</td>\n",
       "      <td>41</td>\n",
       "      <td>3</td>\n",
       "      <td>AL</td>\n",
       "      <td>200</td>\n",
       "      <td>NaN</td>\n",
       "      <td>NaN</td>\n",
       "      <td>ROGERS, Mike Dennis</td>\n",
       "      <td>...</td>\n",
       "      <td>NaN</td>\n",
       "      <td>0.340</td>\n",
       "      <td>0.452</td>\n",
       "      <td>-32.05041</td>\n",
       "      <td>0.83772</td>\n",
       "      <td>181.0</td>\n",
       "      <td>10.0</td>\n",
       "      <td>NaN</td>\n",
       "      <td>0.459</td>\n",
       "      <td>0.499</td>\n",
       "    </tr>\n",
       "    <tr>\n",
       "      <th>1</th>\n",
       "      <td>116</td>\n",
       "      <td>House</td>\n",
       "      <td>21102</td>\n",
       "      <td>41</td>\n",
       "      <td>7</td>\n",
       "      <td>AL</td>\n",
       "      <td>100</td>\n",
       "      <td>NaN</td>\n",
       "      <td>NaN</td>\n",
       "      <td>SEWELL, Terri</td>\n",
       "      <td>...</td>\n",
       "      <td>NaN</td>\n",
       "      <td>-0.391</td>\n",
       "      <td>0.403</td>\n",
       "      <td>-8.99499</td>\n",
       "      <td>0.95446</td>\n",
       "      <td>193.0</td>\n",
       "      <td>5.0</td>\n",
       "      <td>NaN</td>\n",
       "      <td>-0.575</td>\n",
       "      <td>0.538</td>\n",
       "    </tr>\n",
       "    <tr>\n",
       "      <th>2</th>\n",
       "      <td>116</td>\n",
       "      <td>House</td>\n",
       "      <td>21192</td>\n",
       "      <td>41</td>\n",
       "      <td>2</td>\n",
       "      <td>AL</td>\n",
       "      <td>200</td>\n",
       "      <td>NaN</td>\n",
       "      <td>NaN</td>\n",
       "      <td>ROBY, Martha</td>\n",
       "      <td>...</td>\n",
       "      <td>NaN</td>\n",
       "      <td>0.372</td>\n",
       "      <td>0.680</td>\n",
       "      <td>-27.90088</td>\n",
       "      <td>0.86276</td>\n",
       "      <td>189.0</td>\n",
       "      <td>7.0</td>\n",
       "      <td>NaN</td>\n",
       "      <td>0.526</td>\n",
       "      <td>0.850</td>\n",
       "    </tr>\n",
       "    <tr>\n",
       "      <th>3</th>\n",
       "      <td>116</td>\n",
       "      <td>House</td>\n",
       "      <td>21193</td>\n",
       "      <td>41</td>\n",
       "      <td>5</td>\n",
       "      <td>AL</td>\n",
       "      <td>200</td>\n",
       "      <td>NaN</td>\n",
       "      <td>NaN</td>\n",
       "      <td>BROOKS, Mo</td>\n",
       "      <td>...</td>\n",
       "      <td>NaN</td>\n",
       "      <td>0.617</td>\n",
       "      <td>-0.454</td>\n",
       "      <td>-47.65055</td>\n",
       "      <td>0.77818</td>\n",
       "      <td>190.0</td>\n",
       "      <td>21.0</td>\n",
       "      <td>NaN</td>\n",
       "      <td>0.729</td>\n",
       "      <td>-0.521</td>\n",
       "    </tr>\n",
       "    <tr>\n",
       "      <th>4</th>\n",
       "      <td>116</td>\n",
       "      <td>House</td>\n",
       "      <td>21376</td>\n",
       "      <td>41</td>\n",
       "      <td>1</td>\n",
       "      <td>AL</td>\n",
       "      <td>200</td>\n",
       "      <td>NaN</td>\n",
       "      <td>NaN</td>\n",
       "      <td>BYRNE, Bradley</td>\n",
       "      <td>...</td>\n",
       "      <td>NaN</td>\n",
       "      <td>0.551</td>\n",
       "      <td>0.329</td>\n",
       "      <td>-27.08333</td>\n",
       "      <td>0.86382</td>\n",
       "      <td>185.0</td>\n",
       "      <td>9.0</td>\n",
       "      <td>NaN</td>\n",
       "      <td>0.614</td>\n",
       "      <td>0.411</td>\n",
       "    </tr>\n",
       "  </tbody>\n",
       "</table>\n",
       "<p>5 rows × 22 columns</p>\n",
       "</div>"
      ],
      "text/plain": [
       "   congress chamber  icpsr  state_icpsr  district_code state_abbrev  \\\n",
       "0       116   House  20301           41              3           AL   \n",
       "1       116   House  21102           41              7           AL   \n",
       "2       116   House  21192           41              2           AL   \n",
       "3       116   House  21193           41              5           AL   \n",
       "4       116   House  21376           41              1           AL   \n",
       "\n",
       "   party_code  occupancy  last_means              bioname  ... died  \\\n",
       "0         200        NaN         NaN  ROGERS, Mike Dennis  ...  NaN   \n",
       "1         100        NaN         NaN        SEWELL, Terri  ...  NaN   \n",
       "2         200        NaN         NaN         ROBY, Martha  ...  NaN   \n",
       "3         200        NaN         NaN           BROOKS, Mo  ...  NaN   \n",
       "4         200        NaN         NaN       BYRNE, Bradley  ...  NaN   \n",
       "\n",
       "   nominate_dim1  nominate_dim2  nominate_log_likelihood  \\\n",
       "0          0.340          0.452                -32.05041   \n",
       "1         -0.391          0.403                 -8.99499   \n",
       "2          0.372          0.680                -27.90088   \n",
       "3          0.617         -0.454                -47.65055   \n",
       "4          0.551          0.329                -27.08333   \n",
       "\n",
       "   nominate_geo_mean_probability  nominate_number_of_votes  \\\n",
       "0                        0.83772                     181.0   \n",
       "1                        0.95446                     193.0   \n",
       "2                        0.86276                     189.0   \n",
       "3                        0.77818                     190.0   \n",
       "4                        0.86382                     185.0   \n",
       "\n",
       "   nominate_number_of_errors  conditional  nokken_poole_dim1  \\\n",
       "0                       10.0          NaN              0.459   \n",
       "1                        5.0          NaN             -0.575   \n",
       "2                        7.0          NaN              0.526   \n",
       "3                       21.0          NaN              0.729   \n",
       "4                        9.0          NaN              0.614   \n",
       "\n",
       "   nokken_poole_dim2  \n",
       "0              0.499  \n",
       "1              0.538  \n",
       "2              0.850  \n",
       "3             -0.521  \n",
       "4              0.411  \n",
       "\n",
       "[5 rows x 22 columns]"
      ]
     },
     "execution_count": 111,
     "metadata": {},
     "output_type": "execute_result"
    }
   ],
   "source": [
    "df.head()"
   ]
  },
  {
   "cell_type": "code",
   "execution_count": 129,
   "metadata": {},
   "outputs": [
    {
     "data": {
      "text/plain": [
       "Text(0.5, 1.0, 'Ideology scores dem vs. rep')"
      ]
     },
     "execution_count": 129,
     "metadata": {},
     "output_type": "execute_result"
    },
    {
     "data": {
      "image/png": "[encoded data removed]",
      "text/plain": [
       "<Figure size 432x288 with 1 Axes>"
      ]
     },
     "metadata": {
      "needs_background": "light"
     },
     "output_type": "display_data"
    }
   ],
   "source": [
    "plt.hist(df[df['party_code'] == 100]['nominate_dim1'])\n",
    "plt.hist(df[df['party_code'] == 200]['nominate_dim1'], color='red')\n",
    "plt.title('Ideology scores dem vs. rep')"
   ]
  },
  {
   "cell_type": "code",
   "execution_count": null,
   "metadata": {},
   "outputs": [],
   "source": []
  },
  {
   "cell_type": "code",
   "execution_count": null,
   "metadata": {},
   "outputs": [],
   "source": []
  },
  {
   "cell_type": "code",
   "execution_count": null,
   "metadata": {},
   "outputs": [],
   "source": []
  },
  {
   "cell_type": "code",
   "execution_count": null,
   "metadata": {},
   "outputs": [],
   "source": []
  },
  {
   "cell_type": "code",
   "execution_count": null,
   "metadata": {},
   "outputs": [],
   "source": []
  },
  {
   "cell_type": "code",
   "execution_count": null,
   "metadata": {},
   "outputs": [],
   "source": []
  },
  {
   "cell_type": "code",
   "execution_count": null,
   "metadata": {},
   "outputs": [],
   "source": []
  }
 ],
 "metadata": {
  "kernelspec": {
   "display_name": "Python 3",
   "language": "python",
   "name": "python3"
  },
  "language_info": {
   "codemirror_mode": {
    "name": "ipython",
    "version": 3
   },
   "file_extension": ".py",
   "mimetype": "text/x-python",
   "name": "python",
   "nbconvert_exporter": "python",
   "pygments_lexer": "ipython3",
   "version": "3.6.8"
  }
 },
 "nbformat": 4,
 "nbformat_minor": 2
}
